{
  "nbformat": 4,
  "nbformat_minor": 0,
  "metadata": {
    "colab": {
      "provenance": []
    },
    "kernelspec": {
      "name": "python3",
      "display_name": "Python 3"
    },
    "language_info": {
      "name": "python"
    }
  },
  "cells": [
    {
      "cell_type": "markdown",
      "source": [
        "##**Задача 1**\n",
        "\n",
        "###Оформляйте ноутбук, используя эти советы:\n",
        "- Номер задачи - заголовок 2\n",
        "- Номер подзадачи - заголовок 3\n",
        "- Предоставленные наборы данных оформляйте, как код"
      ],
      "metadata": {
        "id": "Fy2HsEjAxvEE"
      }
    },
    {
      "cell_type": "markdown",
      "source": [
        "##**Задача 2**\n",
        "\n",
        "На складе лежат разные фрукты в разном количестве.\n",
        "Нужно написать функцию, которая на вход принимает любое количество названий фруктов и их количество, а возвращает общее количество фруктов на складе"
      ],
      "metadata": {
        "id": "p74d6wrg1_2T"
      }
    },
    {
      "cell_type": "code",
      "source": [
        "def fruits(**kwargs):\n",
        "  res = sum(kwargs.values())\n",
        "  return res\n",
        "\n",
        "fruits(apples=8, kiwis=2, pears=7, peaches=3)\n"
      ],
      "metadata": {
        "colab": {
          "base_uri": "https://localhost:8080/"
        },
        "id": "DAQ7WvOyJyD4",
        "outputId": "cd83c82c-361a-49cf-c9c4-4f7b51fd9ea6"
      },
      "execution_count": null,
      "outputs": [
        {
          "output_type": "execute_result",
          "data": {
            "text/plain": [
              "20"
            ]
          },
          "metadata": {},
          "execution_count": 12
        }
      ]
    },
    {
      "cell_type": "markdown",
      "source": [
        "##**Задача 3**\n",
        "\n",
        "Дан список с затратами на рекламу. Но в данных есть ошибки, некоторые затраты имеют отрицательную величину. Удалите такие значения из списка и посчитайте суммарные затраты\n",
        "[100, 125, -90, 345, 655, -1, 0, 200]\n",
        "Используйте list comprehensions"
      ],
      "metadata": {
        "id": "GHdA2P4D-wxy"
      }
    },
    {
      "cell_type": "code",
      "source": [
        "orig_expenses = [100, 125, -90, 345, 655, -1, 0, 200]\n",
        "\n",
        "# expenses = [i for i in orig_expenses if i >= 0]\n",
        "# sum(expenses)\n",
        "\n",
        "sum([i for i in orig_expenses if i >= 0])"
      ],
      "metadata": {
        "colab": {
          "base_uri": "https://localhost:8080/"
        },
        "id": "wkA5MoIl--99",
        "outputId": "a63d32dc-9272-42f9-b307-3ffaa7924e91"
      },
      "execution_count": 37,
      "outputs": [
        {
          "output_type": "execute_result",
          "data": {
            "text/plain": [
              "1425"
            ]
          },
          "metadata": {},
          "execution_count": 37
        }
      ]
    },
    {
      "cell_type": "markdown",
      "source": [
        "##**Задача 4**\n",
        "\n",
        "Даны два списка.\n",
        "- Дата покупки\n",
        "['2021-09-14', '2021-12-15', '2021-09-08', '2021-12-05', '2021-10-09', '2021-09-30', '2021-12-22', '2021-11-29', '2021-12-24', '2021-11-26', '2021-10-27', '2021-12-18', '2021-11-09', '2021-11-23', '2021-09-27', '2021-10-02', '2021-12-27', '2021-09-20', '2021-12-13', '2021-11-01', '2021-11-09', '2021-12-06', '2021-12-08', '2021-10-09', '2021-10-31', '2021-09-30', '2021-11-09', '2021-12-13', '2021-10-26', '2021-12-09']\n",
        "- Суммы покупок по датам\n",
        "[1270, 8413, 9028, 3703, 5739, 4095, 295, 4944, 5723, 3701, 4471, 651, 7037, 4274, 6275, 4988, 6930, 2971, 6592, 2004, 2822, 519, 3406, 2732, 5015, 2008, 316, 6333, 5700, 2887]"
      ],
      "metadata": {
        "id": "Eekivee_BI6d"
      }
    },
    {
      "cell_type": "markdown",
      "source": [
        "###4.1 Найдите, какая выручка у компании в ноябре\n",
        "Используйте list comprehensions\n"
      ],
      "metadata": {
        "id": "LQsNPXvLBY59"
      }
    },
    {
      "cell_type": "code",
      "source": [
        "dates = ['2021-09-14', '2021-12-15', '2021-09-08', '2021-12-05', '2021-10-09',\n",
        "        '2021-09-30', '2021-12-22', '2021-11-29', '2021-12-24', '2021-11-26',\n",
        "        '2021-10-27', '2021-12-18', '2021-11-09', '2021-11-23', '2021-09-27',\n",
        "        '2021-10-02', '2021-12-27', '2021-09-20', '2021-12-13', '2021-11-01',\n",
        "        '2021-11-09', '2021-12-06', '2021-12-08', '2021-10-09', '2021-10-31',\n",
        "        '2021-09-30', '2021-11-09', '2021-12-13', '2021-10-26', '2021-12-09']\n",
        "buy = [1270, 8413, 9028, 3703, 5739, 4095, 295, 4944, 5723, 3701,\n",
        "        4471, 651, 7037, 4274, 6275, 4988, 6930, 2971, 6592, 2004,\n",
        "        2822, 519, 3406, 2732, 5015, 2008, 316, 6333, 5700, 2887]\n",
        "\n",
        "# revenue = [buy[i] for i in range(len(dates)) if '-11-' in dates[i]]\n",
        "# sum(revenue)\n",
        "\n",
        "sum([buy[i] for i in range(len(dates)) if '-11-' in dates[i]])\n"
      ],
      "metadata": {
        "colab": {
          "base_uri": "https://localhost:8080/"
        },
        "id": "tUvZ-MjnBpKG",
        "outputId": "07ce1cc5-c0f8-4c5d-f4e2-d2bcc386a82f"
      },
      "execution_count": 38,
      "outputs": [
        {
          "output_type": "execute_result",
          "data": {
            "text/plain": [
              "25098"
            ]
          },
          "metadata": {},
          "execution_count": 38
        }
      ]
    },
    {
      "cell_type": "markdown",
      "source": [
        "###4.2 Найдите выручку компании в зависимости от месяца\n",
        "Для этого напишите функцию, которая на вход принимает список с датами и список с выручкой, а на выходе словарь, где ключи - это месяцы, а значения - это выручка.\n",
        "Используйте аннотирование типов."
      ],
      "metadata": {
        "id": "02UMqXSiBhxR"
      }
    },
    {
      "cell_type": "code",
      "source": [
        "def rev(keys: list, values: list) -> dict:\n",
        "  dict_res = {}\n",
        "  for k, v in zip(keys, values):\n",
        "        if k[5:7] in dict_res.keys():\n",
        "            dict_res[k[5:7]] += v\n",
        "        else:\n",
        "            dict_res[k[5:7]] = v\n",
        "  return dict_res\n",
        "\n",
        "print(rev(dates, buy))\n"
      ],
      "metadata": {
        "id": "JQoi6MBHBpsM",
        "colab": {
          "base_uri": "https://localhost:8080/"
        },
        "outputId": "ffd0688b-6f6d-4b5b-e40a-2e9b9b9e2bd1"
      },
      "execution_count": 33,
      "outputs": [
        {
          "output_type": "stream",
          "name": "stdout",
          "text": [
            "{'09': 25647, '12': 45452, '10': 28645, '11': 25098}\n"
          ]
        }
      ]
    }
  ]
}